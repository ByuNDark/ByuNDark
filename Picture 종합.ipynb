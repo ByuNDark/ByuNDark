{
 "cells": [
  {
   "cell_type": "code",
   "execution_count": null,
   "id": "56e4e3f0",
   "metadata": {},
   "outputs": [],
   "source": [
    "import matplotlib.pyplot as plt\n",
    "import seaborn as sns\n",
    "\n",
    "# plt, sns 하기 전에 무조건 해야 되는 거"
   ]
  },
  {
   "cell_type": "code",
   "execution_count": null,
   "id": "51c81664",
   "metadata": {},
   "outputs": [],
   "source": [
    "fig = plt.figure(figsize=(20, 7))\n",
    "sns.countplot(x='AI산출점수', data=eda_df) 또는 sns.countplot(x='SEX_NM', hue='지역나누기', data=Grapher)\n",
    "plt.title('AI산출점수 Distribution')\n",
    "plt.xlabel('AI산출점수')\n",
    "plt.ylabel('그것의 개수')\n",
    "plt.show()\n",
    "\n",
    "# picture\n",
    "# plt.figure(figsize=(20, 7))는 그림 크기를 나타낸다. 20은 가로, 7은 세로\n",
    "# sns.countplot(x='AI산출점수', data=eda_df)에서 countplot은 그림의 기반이 되는 것의 이름, \n",
    "# (x='AI산출점수', data=eda_df)에서 x='AI산출점수'는 eda_df의 어떤 column, data=eda_df는 사용할 데이터프레임을 eda_df로 한다는 의미\n",
    "# plt.title('AI산출점수 Distribution')는 그림 맨 위에 나타나는 그림의 이름\n",
    "# plt.xlabel('AI산출점수')은 그림의 x축에 나타나는 글귀\n",
    "# plt.ylabel('그것의 개수')은 그림의 y축에 나타나는 글귀\n",
    "# plt.show()는 그림을 보여주기 위한 최종 단계\n",
    "# sns.countplot(x='SEX_NM', hue='지역나누기', data=Grapher)이라면 x축과 y축에 관여할 column을 임의로 지정할 수 있다."
   ]
  },
  {
   "cell_type": "code",
   "execution_count": null,
   "id": "bfee211d",
   "metadata": {},
   "outputs": [],
   "source": [
    "fig, axes = plt.subplots(nrows=2, ncols=2, sharey=True, figsize=(40, 20))\n",
    "fig.subplots_adjust(hspace=.4, wspace=.1)\n",
    "\n",
    "Visual_Object.sort_values(by=['총평'],ascending=False).plot.bar(x='좋아요의 범위', y='총평', rot=90, figsize=(20, 10), ax=axes[0][0])\n",
    "axes[0][0].set_title('지역별 총평')\n",
    "axes[0][0].set_xlabel('지역')\n",
    "axes[0][0].set_ylabel('점수')\n",
    "\n",
    "Visual_Object.sort_values(by=['맛평점'],ascending=False).plot.bar(x='좋아요의 범위', y='맛평점', rot=90, figsize=(20, 10), ax=axes[0][1])\n",
    "axes[0][1].set_title('지역별 맛평점')\n",
    "axes[0][1].set_xlabel('지역')\n",
    "axes[0][1].set_ylabel('점수')\n",
    "\n",
    "Visual_Object.sort_values(by=['가격평점'],ascending=False).plot.bar(x='좋아요의 범위', y='가격평점', rot=90, figsize=(20, 10), ax=axes[1][0])\n",
    "axes[1][0].set_title('지역별 가격평점')\n",
    "axes[1][0].set_xlabel('지역')\n",
    "axes[1][0].set_ylabel('점수')\n",
    "\n",
    "Visual_Object.sort_values(by=['서비스평점'],ascending=False).plot.bar(x='좋아요의 범위', y='서비스평점', rot=90, figsize=(20, 10), ax=axes[1][1])\n",
    "axes[1][1].set_title('지역별 서비스평점')\n",
    "axes[1][1].set_xlabel('지역')\n",
    "axes[1][1].set_ylabel('점수')\n",
    "\n",
    "plt.show()\n",
    "\n",
    "# picture\n",
    "# 한 번에 여러 개 그림을 그리기 위한 거. nrows=2, ncols=2는 사각형 모양 기준으로 세로 2칸, 가로 2칸이 된다.\n",
    "# Visual_Object.sort_values에서 Visual_Object는 데이터프레임 이름이다.\n",
    "# by=['총평'],ascending=False에서 '총평'은 Visual_Object에 있는 column 이름 중 하나다. ascending=False는 내림차순이고 True면 오름차순.\n",
    "# x='좋아요의 범위', y='총평'에서 '좋아요의 범위'와 '총평'은 Visual_Object에 있는 column 이름 중 하나다.\n",
    "# rot=90은 x축에 들어갈 글귀를 90도 회전시킨다. ax=axes[0][0]은 2x2 사각형 기준으로 위치 (0, 0)에 그리라는 명령이다."
   ]
  },
  {
   "cell_type": "code",
   "execution_count": null,
   "id": "291662ed",
   "metadata": {},
   "outputs": [],
   "source": [
    "corr_only = eda_df[['AI산출점수','좋아요 수','평점','총평','맛평점','가격평점','서비스평점']]\n",
    "plt.figure(figsize=(10,10))\n",
    "sns.heatmap(corr_only.corr(),vmin=-1,vmax=1,annot=True,linewidths=1.0,cmap='Reds')\n",
    "plt.show()\n",
    "\n",
    "# picture\n",
    "# corr_only는 eda_df라는 데이터프레임에서 heatmap에 그릴 것들만 분류하는 작업\n",
    "# corr_only.corr()는 미리 분류해 둔 column 여러 개를 나타내는 corr_only에 대해 correlation값을 자동 계산해줌\n",
    "# vmin=-1,vmax=1는 heatmap 안의 모든 숫자의 최대최소를 제한해줌"
   ]
  },
  {
   "cell_type": "code",
   "execution_count": null,
   "id": "505b0a1e",
   "metadata": {},
   "outputs": [],
   "source": [
    "plt.figure(figsize=(16,10))\n",
    "plt.title('남녀',fontsize = 17)\n",
    "Job_Reception['SEX_NM'].value_counts().plot.pie(autopct='%1.2f%%',fontsize = 15, shadow=True)\n",
    "plt.rcParams[\"figure.figsize\"] = (20, 10)\n",
    "plt.show()\n",
    "\n",
    "# picture\n",
    "# plt.figure(figsize=(16,10))은 그림 크기를 16x10으로 한다는 의미\n",
    "# plt.title('남녀',fontsize=17)은 그림의 제목을 '남녀', 제목의 크기가 17이라는 것\n",
    "# 원 그래프를 데이터프레임 Job_Reception의 column중 하나인 'SEX_NM'에 대해 나타낸다. 'SEX_NM'에 있는 각 데이터의 개수를 구해준다."
   ]
  }
 ],
 "metadata": {
  "kernelspec": {
   "display_name": "Python 3 (ipykernel)",
   "language": "python",
   "name": "python3"
  },
  "language_info": {
   "codemirror_mode": {
    "name": "ipython",
    "version": 3
   },
   "file_extension": ".py",
   "mimetype": "text/x-python",
   "name": "python",
   "nbconvert_exporter": "python",
   "pygments_lexer": "ipython3",
   "version": "3.8.12"
  }
 },
 "nbformat": 4,
 "nbformat_minor": 5
}
