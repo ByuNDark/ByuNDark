{
 "cells": [
  {
   "cell_type": "code",
   "execution_count": 1,
   "id": "be114c68",
   "metadata": {},
   "outputs": [],
   "source": [
    "import math\n",
    "\n",
    "# math 쓰기 전에 무조건 해야 되는 것"
   ]
  },
  {
   "cell_type": "code",
   "execution_count": 2,
   "id": "9b742af5",
   "metadata": {},
   "outputs": [
    {
     "name": "stdout",
     "output_type": "stream",
     "text": [
      "4\n",
      "13\n",
      "6\n",
      "6\n",
      "24\n",
      "9.0\n",
      "5.196152422706632\n",
      "3.141592653589793\n"
     ]
    }
   ],
   "source": [
    "print(math.ceil(3.21))\n",
    "print(math.ceil(12.83))\n",
    "print(math.floor(6.66))\n",
    "print(math.floor(6.11))\n",
    "print(math.factorial(4))\n",
    "print(math.sqrt(81))\n",
    "print(math.sqrt(27))\n",
    "print(math.pi)\n",
    "\n",
    "# math\n",
    "# math.ceil(3.21)은 3.21을 올림해서 4, math.ceil(12.83)은 12.83을 올림해서 13\n",
    "# math.floor(6.66)은 6.66을 내림해서 6, math.floor(6.11)은 6.11을 내림해서 6\n",
    "# math.factorial(4)는 4! = 24\n",
    "# math.sqrt(81)은 81에 루트를 씌워 9, math.sqrt(27)은 27에 루트를 씌워 5.19...\n",
    "# math.pi는 실수 pi값을 공개"
   ]
  }
 ],
 "metadata": {
  "kernelspec": {
   "display_name": "Python 3 (ipykernel)",
   "language": "python",
   "name": "python3"
  },
  "language_info": {
   "codemirror_mode": {
    "name": "ipython",
    "version": 3
   },
   "file_extension": ".py",
   "mimetype": "text/x-python",
   "name": "python",
   "nbconvert_exporter": "python",
   "pygments_lexer": "ipython3",
   "version": "3.8.12"
  }
 },
 "nbformat": 4,
 "nbformat_minor": 5
}
