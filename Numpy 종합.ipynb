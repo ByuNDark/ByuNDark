{
 "cells": [
  {
   "cell_type": "code",
   "execution_count": 1,
   "id": "bcf579c2",
   "metadata": {},
   "outputs": [],
   "source": [
    "import numpy as np\n",
    "\n",
    "# np 쓰기 전에 무조건 해야 되는 거"
   ]
  },
  {
   "cell_type": "code",
   "execution_count": 2,
   "id": "cda06460",
   "metadata": {},
   "outputs": [
    {
     "name": "stdout",
     "output_type": "stream",
     "text": [
      "[[1 2 3 4]\n",
      " [1 2 3 4]\n",
      " [1 3 5 7]]\n"
     ]
    }
   ],
   "source": [
    "T = np.array([[1,2,3,4],[1,2,3,4],[1,3,5,7]])\n",
    "print(T)\n",
    "\n",
    "# numpy\n",
    "# np.array([[1,2,3,4],[1,2,3,4],[1,3,5,7]])는 가로 4칸, 세로 3칸 행렬이 나온다."
   ]
  },
  {
   "cell_type": "code",
   "execution_count": 3,
   "id": "d5553a54",
   "metadata": {},
   "outputs": [
    {
     "name": "stdout",
     "output_type": "stream",
     "text": [
      "[[1 1 2 2]\n",
      " [1 1 3 3]]\n",
      "[[3 3]\n",
      " [1 1]\n",
      " [2 2]\n",
      " [4 4]]\n",
      "[[16 16]\n",
      " [22 22]]\n"
     ]
    }
   ],
   "source": [
    "Y = np.array([[1,1,2,2],[1,1,3,3]])\n",
    "V = np.array([[3,3],[1,1],[2,2],[4,4]])\n",
    "print(Y)\n",
    "print(V)\n",
    "print(np.dot(Y, V))\n",
    "\n",
    "# numpy\n",
    "# np.dot(Y, V)는 행렬 곱이다."
   ]
  },
  {
   "cell_type": "code",
   "execution_count": 4,
   "id": "dcd12e68",
   "metadata": {},
   "outputs": [
    {
     "name": "stdout",
     "output_type": "stream",
     "text": [
      "[[4 5]\n",
      " [6 7]\n",
      " [8 9]]\n",
      "[[6 6]\n",
      " [8 8]]\n",
      "[[4 5]\n",
      " [6 7]\n",
      " [8 9]\n",
      " [6 6]\n",
      " [8 8]]\n"
     ]
    }
   ],
   "source": [
    "I = np.array([[4,5],[6,7],[8,9]])\n",
    "J = np.array([[6,6],[8,8]])\n",
    "print(I)\n",
    "print(J)\n",
    "print(np.concatenate([I, J]))\n",
    "\n",
    "# numpy\n",
    "# np.concatenate([I,J])는 행렬 I 밑에 행렬 J를 이어붙인다."
   ]
  },
  {
   "cell_type": "code",
   "execution_count": 5,
   "id": "a496abd8",
   "metadata": {},
   "outputs": [
    {
     "name": "stdout",
     "output_type": "stream",
     "text": [
      "[[ 3  5  7]\n",
      " [ 2  5  7]\n",
      " [ 1  5  7]\n",
      " [10 10 10]\n",
      " [20 20 20]]\n",
      "[[   3    5    7    5]\n",
      " [   2    5    7    5]\n",
      " [   1    5    7 5555]]\n"
     ]
    }
   ],
   "source": [
    "H = np.array([[3,5,7],[2,5,7],[1,5,7]])\n",
    "G = np.array([[10,10,10],[20,20,20]])\n",
    "F = np.array([[5],[5],[5555]])\n",
    "print(np.vstack([H, G]))\n",
    "print(np.hstack([H, F]))\n",
    "\n",
    "# numpy\n",
    "# np.vstack([H, G])는 행렬 H 밑에 행렬 G를 이어붙인다.\n",
    "# np.hstack([H, F])는 행렬 H 오른쪽에 행렬 F를 이어붙인다."
   ]
  }
 ],
 "metadata": {
  "kernelspec": {
   "display_name": "Python 3 (ipykernel)",
   "language": "python",
   "name": "python3"
  },
  "language_info": {
   "codemirror_mode": {
    "name": "ipython",
    "version": 3
   },
   "file_extension": ".py",
   "mimetype": "text/x-python",
   "name": "python",
   "nbconvert_exporter": "python",
   "pygments_lexer": "ipython3",
   "version": "3.8.12"
  }
 },
 "nbformat": 4,
 "nbformat_minor": 5
}
