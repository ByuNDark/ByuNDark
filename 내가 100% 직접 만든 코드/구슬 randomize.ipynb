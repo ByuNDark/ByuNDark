{
 "cells": [
  {
   "cell_type": "code",
   "execution_count": 1,
   "id": "c99e9f14",
   "metadata": {},
   "outputs": [],
   "source": [
    "# 만들고 있는 보드게임 세계관이랑 연관된 거다.\n",
    "# 목적은 점수 높게 얻는 건데, 가지고 있는 구슬 개수 5로 나눈 몫이 점수가 된다.\n",
    "def MagicBead(n):\n",
    "    Bead = 0 # 이게 구슬\n",
    "    import math\n",
    "    import random\n",
    "    if n < 1:\n",
    "        print('You Fired')\n",
    "        return\n",
    "    else:\n",
    "        chance = math.floor(n) # so n is 횟수\n",
    "    while chance > 0:\n",
    "        case = input('원하는 캐릭터를 선택하시오(A/B/C/D/F) :')\n",
    "        if case == 'A':\n",
    "            P = [1,2,3,4,5,6]\n",
    "            Bead += random.choice(P)\n",
    "        elif case == 'B':\n",
    "            Q = []\n",
    "            for i in range(1, 12):\n",
    "                Q.append(i ** 2)\n",
    "            R = random.sample(Q, 2)\n",
    "            Bead += R[0] - R[1]\n",
    "        elif case == 'C':\n",
    "            S = [1,2,3,4]\n",
    "            random.shuffle(S)\n",
    "            while not S[0] == 1:\n",
    "                Bead += 1\n",
    "                random.shuffle(S)\n",
    "        elif case == 'D':\n",
    "            T = [0,2,4,6,8,10,12,14,16,18,20,22,24]\n",
    "            U = [1,3,5,7,9,11,13,15,17,19,21,23,25]\n",
    "            random.shuffle(T)\n",
    "            random.shuffle(U)\n",
    "            for i in range(13):\n",
    "                if T[i] > U[i]:\n",
    "                    Bead += 2\n",
    "                else:\n",
    "                    Bead -= 1\n",
    "        else: # 상단 input에서 F 넣었을 때이긴 한데, 오타 또는 개소리 지껄일 수도 있어갖고 이렇게 만듦\n",
    "            if Bead % 10 == 0:\n",
    "                Bead += random.randint(0, 29)\n",
    "            elif Bead >= 60 or Bead <= 20:\n",
    "                Bead += chance ** 2\n",
    "            else:\n",
    "                math.ceil(math.sqrt(Bead))\n",
    "        chance -= 1\n",
    "    if Bead < 0:\n",
    "        print(Bead, '실점')\n",
    "    else:\n",
    "        print('마법 구슬', Bead)\n",
    "        score = Bead // 5\n",
    "        print('Your Score is', score)"
   ]
  }
 ],
 "metadata": {
  "kernelspec": {
   "display_name": "Python 3 (ipykernel)",
   "language": "python",
   "name": "python3"
  },
  "language_info": {
   "codemirror_mode": {
    "name": "ipython",
    "version": 3
   },
   "file_extension": ".py",
   "mimetype": "text/x-python",
   "name": "python",
   "nbconvert_exporter": "python",
   "pygments_lexer": "ipython3",
   "version": "3.8.12"
  }
 },
 "nbformat": 4,
 "nbformat_minor": 5
}
