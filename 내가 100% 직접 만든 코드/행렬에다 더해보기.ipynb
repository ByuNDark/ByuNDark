{
 "cells": [
  {
   "cell_type": "code",
   "execution_count": 1,
   "id": "508f7f84",
   "metadata": {},
   "outputs": [],
   "source": [
    "def inpormayshien(s, t, Q):\n",
    "    z = 0;w = 0\n",
    "    import pandas as pd\n",
    "    import numpy as np\n",
    "    import random\n",
    "    GongPo = pd.DataFrame(data=np.zeros((s, t)).reshape(s, t), dtype=int, index=np.arange(s), columns=np.arange(t))\n",
    "    while Q.count(0) != len(Q):\n",
    "        for i in range(s):\n",
    "            for j in range(t):\n",
    "                z = random.choice(Q)\n",
    "                if z != 0:\n",
    "                    GongPo.iloc[i][j] = GongPo.iloc[i][j] + z\n",
    "                    Q.remove(z)\n",
    "        w += 1\n",
    "        print(GongPo, \"\\n\")\n",
    "    print('와일 반복 횟수 is ', w)"
   ]
  }
 ],
 "metadata": {
  "kernelspec": {
   "display_name": "Python 3 (ipykernel)",
   "language": "python",
   "name": "python3"
  },
  "language_info": {
   "codemirror_mode": {
    "name": "ipython",
    "version": 3
   },
   "file_extension": ".py",
   "mimetype": "text/x-python",
   "name": "python",
   "nbconvert_exporter": "python",
   "pygments_lexer": "ipython3",
   "version": "3.8.12"
  }
 },
 "nbformat": 4,
 "nbformat_minor": 5
}
