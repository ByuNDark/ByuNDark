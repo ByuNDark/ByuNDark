{
 "cells": [
  {
   "cell_type": "code",
   "execution_count": 1,
   "id": "c0d7d1bb",
   "metadata": {},
   "outputs": [],
   "source": [
    "def ZestTree(n, m):\n",
    "    import networkx as nx\n",
    "    import matplotlib.pyplot as plt\n",
    "    G = nx.Graph()\n",
    "    for i in range(n):\n",
    "        G.add_node(i)\n",
    "    for j in range(n - 1):\n",
    "        G.add_edge(j, j + 1)\n",
    "    for k in range(2 * n * m):\n",
    "        G.add_node(n + k)\n",
    "        if 2 * n > k:\n",
    "            G.add_edge(k % n, n + k)\n",
    "        else:\n",
    "            G.add_edge(k - n, n + k)\n",
    "    nx.draw(G, with_labels=True)"
   ]
  }
 ],
 "metadata": {
  "kernelspec": {
   "display_name": "Python 3 (ipykernel)",
   "language": "python",
   "name": "python3"
  },
  "language_info": {
   "codemirror_mode": {
    "name": "ipython",
    "version": 3
   },
   "file_extension": ".py",
   "mimetype": "text/x-python",
   "name": "python",
   "nbconvert_exporter": "python",
   "pygments_lexer": "ipython3",
   "version": "3.8.12"
  }
 },
 "nbformat": 4,
 "nbformat_minor": 5
}
