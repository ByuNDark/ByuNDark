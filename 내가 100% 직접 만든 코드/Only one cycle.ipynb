{
 "cells": [
  {
   "cell_type": "code",
   "execution_count": 1,
   "id": "4b543854",
   "metadata": {},
   "outputs": [],
   "source": [
    "def LifeCycle(n):\n",
    "    import networkx as nx\n",
    "    import matplotlib.pyplot as plt\n",
    "    G = nx.Graph()\n",
    "    for i in range(n):\n",
    "        G.add_node(i)\n",
    "    for j in range(n - 1):\n",
    "        G.add_edge(j, j + 1)\n",
    "    G.add_edge(j + 1, 0)\n",
    "    for k in range(n, 3 * n):\n",
    "        G.add_node(k)\n",
    "    for t in range(n):\n",
    "        G.add_edges_from([(t, n + t), (t, 2 * n + t)])\n",
    "    nx.draw(G, with_labels=True)"
   ]
  }
 ],
 "metadata": {
  "kernelspec": {
   "display_name": "Python 3 (ipykernel)",
   "language": "python",
   "name": "python3"
  },
  "language_info": {
   "codemirror_mode": {
    "name": "ipython",
    "version": 3
   },
   "file_extension": ".py",
   "mimetype": "text/x-python",
   "name": "python",
   "nbconvert_exporter": "python",
   "pygments_lexer": "ipython3",
   "version": "3.8.12"
  }
 },
 "nbformat": 4,
 "nbformat_minor": 5
}
