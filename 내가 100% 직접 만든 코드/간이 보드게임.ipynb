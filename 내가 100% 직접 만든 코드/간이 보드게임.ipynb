{
 "cells": [
  {
   "cell_type": "code",
   "execution_count": 1,
   "id": "e34532e6",
   "metadata": {},
   "outputs": [],
   "source": [
    "# this game is 1줄짜리 n칸 길이 있고 말을 움직인다. 그래서 -1 칸을 밟을 때마다 1점 먹는 거다.\n",
    "# n : 전체 칸 개수, P : 숫자 카드 list 지정\n",
    "# ㄴ어 is 어윤수\n",
    "def LGEboard(n, P):\n",
    "    import random\n",
    "    A = []\n",
    "    B = [1,1,1,1,-1] # -1은 점수 먹는 칸\n",
    "    for i in range(1, n + 1):\n",
    "        A.append(i * random.choice(B)) # -1을 각 칸마다 20% 확률로 지정\n",
    "    print(A) # 전체 칸 중에서 -1이 어디어디 있는지 보여줌\n",
    "    me = 0\n",
    "    score = 0\n",
    "    while me < n:\n",
    "        me += random.randint(1, 6) # 주사위 던지는 거\n",
    "        if me > n:\n",
    "            return print('Your finally score is', score)\n",
    "        print('ㄴ어의 현재 위치', me)\n",
    "        print('ㄴ어의 현재 숫자 카드', P)\n",
    "        y = int(input('카드 사용(0 입력 : 카드 사용 안 함)'))\n",
    "        me += y\n",
    "        if me > n:\n",
    "            return print('ㄴ어는 숫자 카드 호버링', 'ㄴ어의 점수 is', score)\n",
    "        if P.count(y) > 0:\n",
    "            P.remove(y)\n",
    "        if A[me - 1] < 0:\n",
    "            score += 1\n",
    "            print('+1점')\n",
    "    print('Your finally score is', score)"
   ]
  }
 ],
 "metadata": {
  "kernelspec": {
   "display_name": "Python 3 (ipykernel)",
   "language": "python",
   "name": "python3"
  },
  "language_info": {
   "codemirror_mode": {
    "name": "ipython",
    "version": 3
   },
   "file_extension": ".py",
   "mimetype": "text/x-python",
   "name": "python",
   "nbconvert_exporter": "python",
   "pygments_lexer": "ipython3",
   "version": "3.8.12"
  }
 },
 "nbformat": 4,
 "nbformat_minor": 5
}
