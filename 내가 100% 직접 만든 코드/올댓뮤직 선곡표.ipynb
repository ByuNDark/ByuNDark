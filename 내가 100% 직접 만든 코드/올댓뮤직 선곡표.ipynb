{
 "cells": [
  {
   "cell_type": "code",
   "execution_count": null,
   "id": "3457f7d9",
   "metadata": {},
   "outputs": [],
   "source": [
    "# 라이브러리 import\n",
    "import os\n",
    "import pandas as pd\n",
    "import numpy as np\n",
    "import math\n",
    "# 셀레늄\n",
    "from selenium.webdriver.common.alert import Alert\n",
    "from selenium import webdriver  # 라이브러리(모듈) 가져오라\n",
    "# pip install chromedriver_autoinstaller\n",
    "from selenium.webdriver.common.keys import Keys\n",
    "from selenium.webdriver import ActionChains as AC\n",
    "from selenium.webdriver.chrome.options import Options\n",
    "from selenium.webdriver.common.by import By\n",
    "from selenium.webdriver.common.action_chains import ActionChains\n",
    "from selenium.webdriver.support.ui import WebDriverWait\n",
    "from selenium.webdriver.support import expected_conditions as EC\n",
    "from selenium.common.exceptions import TimeoutException, NoAlertPresentException\n",
    "from bs4 import BeautifulSoup\n",
    "import subprocess\n",
    "import shutil\n",
    "import chromedriver_autoinstaller\n",
    "import urllib.request\n",
    "# tqdm : for문 진행상황 체크\n",
    "from tqdm import tqdm, tqdm_notebook\n",
    "from tqdm.notebook import tqdm\n",
    "# 정규표현식(regular expression) : 문자(알파벳,한글), 숫자, 특수기호 정제 및 추출\n",
    "import re\n",
    "import random\n",
    "from time import sleep\n",
    "import time\n",
    "# 워닝 무시\n",
    "import warnings\n",
    "warnings.filterwarnings('ignore')"
   ]
  },
  {
   "cell_type": "code",
   "execution_count": null,
   "id": "1030cb42",
   "metadata": {},
   "outputs": [],
   "source": [
    "대체수라인 = []; 곡명 = []; 가수 = []\n",
    "options = webdriver.ChromeOptions()\n",
    "options.add_argument(\"--window-size=1000,700\") # window-size -> 기본 : 1920,1080\n",
    "chrome_path = chromedriver_autoinstaller.install()\n",
    "driver = webdriver.Chrome(chrome_path, options=options)\n",
    "driver.get('https://m.imbc.com/Radio/Music/1004978100000100000?objid=STFM000001862')\n",
    "time.sleep(12)\n",
    "\n",
    "t = 0\n",
    "for x in range(15):\n",
    "    try:\n",
    "        a = driver.find_element(By.CSS_SELECTOR, '#siteContent > section > div > div.music-area > div:nth-child({}) > div > div.txt-wrap > p.title.ellipsis2'.format(x+1)).text\n",
    "        b = driver.find_element(By.CSS_SELECTOR, '#siteContent > section > div > div.music-area > div:nth-child({}) > div > div.txt-wrap > p.singer'.format(x+1)).text\n",
    "        대체수라인.append(t)\n",
    "        곡명.append(a)\n",
    "        가수.append(b)\n",
    "    except:\n",
    "        pass\n",
    "    \n",
    "for t in range(1, 100):\n",
    "    time.sleep(random.randint(3, 6))\n",
    "    driver.find_element(By.XPATH, '//*[@id=\"onair_chart_day\"]').click()\n",
    "    time.sleep(2)\n",
    "    driver.find_element(By.XPATH, '//*[@id=\"{}\"]'.format(t)).click()\n",
    "    time.sleep(4)\n",
    "    for x in range(48):\n",
    "        try:\n",
    "            a = driver.find_element(By.CSS_SELECTOR, '#siteContent > section > div > div.music-area > div:nth-child({}) > div > div.txt-wrap > p.title.ellipsis2'.format(x+1)).text\n",
    "            b = driver.find_element(By.CSS_SELECTOR, '#siteContent > section > div > div.music-area > div:nth-child({}) > div > div.txt-wrap > p.singer'.format(x+1)).text\n",
    "            대체수라인.append(t)\n",
    "            곡명.append(a)\n",
    "            가수.append(b)\n",
    "        except:\n",
    "            pass\n",
    "        \n",
    "VIKI = pd.DataFrame({'number':대체수라인,\n",
    "                '노래 이름':곡명,\n",
    "                'Artist':가수})\n",
    "\n",
    "driver.quit()\n",
    "\n",
    "VIKI.to_csv(\"JangWonYoung.csv\", encoding='utf-8-sig')"
   ]
  },
  {
   "cell_type": "markdown",
   "id": "91ce94e8",
   "metadata": {},
   "source": [
    "EDA"
   ]
  },
  {
   "cell_type": "code",
   "execution_count": null,
   "id": "57d192ed",
   "metadata": {},
   "outputs": [],
   "source": [
    "MBC = pd.read_csv('C:/Users/김태성/Desktop/파이썬용CSV/JangWonYoung.csv')\n",
    "MBC = MBC.drop(['Unnamed: 0'], axis=1)\n",
    "MBC"
   ]
  },
  {
   "cell_type": "code",
   "execution_count": null,
   "id": "39317335",
   "metadata": {},
   "outputs": [],
   "source": [
    "# 노래 이름 불러오기\n",
    "z = input('Artist 이름을 exactly : ')\n",
    "n = int(input('0 아니면 자연수 = '))\n",
    "result_1 = MBC.index[MBC['Artist'] == z].tolist()\n",
    "result_2 = []\n",
    "if n == 0:\n",
    "    result = result_1\n",
    "else:\n",
    "    for x in range(n):\n",
    "        for i in result_1:\n",
    "            result_2.append(i + x + 1)\n",
    "        result = result_1 + result_2\n",
    "MBC.loc[sorted(result)]"
   ]
  },
  {
   "cell_type": "code",
   "execution_count": null,
   "id": "be5bdec2",
   "metadata": {},
   "outputs": [],
   "source": [
    "# 입력한 노래 전 순서들\n",
    "z = input('노래 이름을 exactly : ')\n",
    "n = int(input('0 아니면 자연수 = '))\n",
    "result_1 = MBC.index[MBC['노래 이름'] == z].tolist()\n",
    "result_2 = []\n",
    "if n == 0:\n",
    "    result = result_1\n",
    "else:\n",
    "    for x in range(n):\n",
    "        for i in result_1:\n",
    "            result_2.append(i - x - 1)\n",
    "        result = result_1 + result_2\n",
    "MBC.loc[sorted(result)]"
   ]
  },
  {
   "cell_type": "code",
   "execution_count": null,
   "id": "e77a9b00",
   "metadata": {},
   "outputs": [],
   "source": [
    "# # 입력한 노래 다음 순서들\n",
    "z = input('노래 이름을 exactly : ')\n",
    "n = int(input('0 아니면 자연수 = '))\n",
    "result_1 = MBC.index[MBC['노래 이름'] == z].tolist()\n",
    "result_2 = []\n",
    "if n == 0:\n",
    "    result = result_1\n",
    "else:\n",
    "    for x in range(n):\n",
    "        for i in result_1:\n",
    "            result_2.append(i + x + 1)\n",
    "        result = result_1 + result_2\n",
    "MBC.loc[sorted(result)]"
   ]
  },
  {
   "cell_type": "code",
   "execution_count": null,
   "id": "29ea7f29",
   "metadata": {},
   "outputs": [],
   "source": [
    "# 앞 뒤 노래\n",
    "z = input('노래 이름을 exactly : ')\n",
    "result = MBC.index[MBC['노래 이름'] == z].tolist()\n",
    "whatda = []; ganda = []\n",
    "for a in result:\n",
    "    whatda.append(a - 1)\n",
    "    ganda.append(a + 1)\n",
    "showman = whatda + ganda\n",
    "print(MBC['노래 이름'][sorted(showman)])"
   ]
  }
 ],
 "metadata": {
  "kernelspec": {
   "display_name": "Python 3 (ipykernel)",
   "language": "python",
   "name": "python3"
  },
  "language_info": {
   "codemirror_mode": {
    "name": "ipython",
    "version": 3
   },
   "file_extension": ".py",
   "mimetype": "text/x-python",
   "name": "python",
   "nbconvert_exporter": "python",
   "pygments_lexer": "ipython3",
   "version": "3.10.9"
  }
 },
 "nbformat": 4,
 "nbformat_minor": 5
}
