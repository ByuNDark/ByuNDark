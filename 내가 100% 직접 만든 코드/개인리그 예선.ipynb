{
 "cells": [
  {
   "cell_type": "code",
   "execution_count": null,
   "id": "db6bf84d",
   "metadata": {},
   "outputs": [],
   "source": [
    "import random\n",
    "import pandas as pd\n",
    "import numpy as np"
   ]
  },
  {
   "cell_type": "code",
   "execution_count": null,
   "id": "772b7576",
   "metadata": {},
   "outputs": [],
   "source": [
    "Eagle = pd.read_csv('C:/Users/김태성/Desktop/파이썬용CSV/개인리그다.csv')\n",
    "Eagle"
   ]
  },
  {
   "cell_type": "code",
   "execution_count": null,
   "id": "81807797",
   "metadata": {},
   "outputs": [],
   "source": [
    "P = []\n",
    "for x in range(185):\n",
    "    P.append([Eagle['이름'][x], Eagle['점수'][x]])\n",
    "P"
   ]
  },
  {
   "cell_type": "code",
   "execution_count": null,
   "id": "bd21a572",
   "metadata": {},
   "outputs": [],
   "source": [
    "P_test = P[10:25]\n",
    "print(P_test)\n",
    "\n",
    "yds = ['조성주', '이제동', '이병렬', '이승현']\n",
    "\n",
    "Incheon = [item for item in P_test if item[0] not in yds]\n",
    "print(Incheon)"
   ]
  },
  {
   "cell_type": "code",
   "execution_count": null,
   "id": "0a84979e",
   "metadata": {},
   "outputs": [],
   "source": [
    "def SurvivorTonurmant(P, k):\n",
    "    import random\n",
    "    import numpy as np\n",
    "    # this is 결과 값을 깔끔하게 하기 위한 거\n",
    "    # 이거 없으면 한 줄로 융통성 없이 뜨기 때문\n",
    "    if k % 4 == 0:\n",
    "        z = 8\n",
    "    elif k % 3 == 0:\n",
    "        z = 6\n",
    "    elif k % 2 == 0:\n",
    "        z = 4\n",
    "    else:\n",
    "        z = 2\n",
    "    while (len(P) + 1) // 2 >= k: # 최종 진출자 숫자 k를 2배 한 값보다 P가 작아질 때까지 대결 돌림\n",
    "        random.shuffle(P) # 대진 무작위로 섞기\n",
    "        Q = [];R = []\n",
    "        if len(P) % 2 == 1:\n",
    "            R.append(P[-1]) # 만약 P 길이 홀수면 부전승 1명\n",
    "            del P[-1]\n",
    "        n = len(P)\n",
    "        for i in range(n):\n",
    "            Q.append([P[i][0], random.randint(1, P[i][1])]) # 캐릭터 이름 옆 점수에 따른 랜덤 score 산출\n",
    "        for j in range(n // 2):\n",
    "            # 여기는 산출한 랜덤 score가 높은 캐릭터 다음 라운드 진출\n",
    "            if Q[2 * j][1] > Q[2 * j + 1][1]:\n",
    "                R.append(P[2 * j])\n",
    "            elif Q[2 * j][1] < Q[2 * j + 1][1]:\n",
    "                R.append(P[2 * j + 1])\n",
    "            # 위 과정에서 동점 나오면 아래 과정 진행\n",
    "            else:\n",
    "                # 여기는 캐릭터 이름 옆 원래 점수(랜덤 아님)에 따라, 서로 다르다면 낮은 캐릭터 다음 라운드 진출, 같다면 걍 왼쪽 캐릭터 진출\n",
    "                if P[2 * j][1] > P[2 * j + 1][1]:\n",
    "                    R.append(P[2 * j + 1])\n",
    "                else:\n",
    "                    R.append(P[2 * j])\n",
    "        P = R\n",
    "    if len(P) > k: # 최종 진출자 숫자 k값보다 P가 크다면 대결 1회 돌림\n",
    "        A = [];Q = [];R = []\n",
    "        random.shuffle(P)\n",
    "        for r in range(len(P)):\n",
    "            if r < 2 * (len(P) - k):\n",
    "                A.append(P[r])\n",
    "            else:\n",
    "                R.append(P[r])\n",
    "        for i in range(len(A)):\n",
    "            Q.append([A[i][0], random.randint(1, A[i][1])]) # 캐릭터 이름 옆 점수에 따른 랜덤 score 산출\n",
    "        for j in range(len(A) // 2):\n",
    "            # 여기는 산출한 랜덤 score가 높은 캐릭터 다음 라운드 진출\n",
    "            if Q[2 * j][1] > Q[2 * j + 1][1]:\n",
    "                R.append(A[2 * j])\n",
    "            elif Q[2 * j][1] < Q[2 * j + 1][1]:\n",
    "                R.append(A[2 * j + 1])\n",
    "            # 위 과정에서 동점 나오면 아래 과정 진행\n",
    "            else:\n",
    "                # 여기는 캐릭터 이름 옆 원래 점수(랜덤 아님)에 따라, 서로 다르다면 낮은 캐릭터 다음 라운드 진출, 같다면 걍 왼쪽 캐릭터 진출\n",
    "                if A[2 * j][1] > A[2 * j + 1][1]:\n",
    "                    R.append(A[2 * j + 1])\n",
    "                else:\n",
    "                    R.append(A[2 * j])\n",
    "        Rbogi = np.array(R).reshape(int(k / int(z / 2)), z)\n",
    "        print('진출자 명단 : ', Rbogi)\n",
    "    else:\n",
    "        Pbogi = np.array(P).reshape(int(k / int(z / 2)), z)\n",
    "        print('진출자 명단 : ', Pbogi)"
   ]
  }
 ],
 "metadata": {
  "kernelspec": {
   "display_name": "Python 3 (ipykernel)",
   "language": "python",
   "name": "python3"
  },
  "language_info": {
   "codemirror_mode": {
    "name": "ipython",
    "version": 3
   },
   "file_extension": ".py",
   "mimetype": "text/x-python",
   "name": "python",
   "nbconvert_exporter": "python",
   "pygments_lexer": "ipython3",
   "version": "3.10.9"
  }
 },
 "nbformat": 4,
 "nbformat_minor": 5
}
