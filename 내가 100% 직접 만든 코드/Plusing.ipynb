{
 "cells": [
  {
   "cell_type": "code",
   "execution_count": 1,
   "id": "ef2cac92",
   "metadata": {},
   "outputs": [],
   "source": [
    "# n의 절반 내림에서 시작해서 덧셈 문제를 맞추면 +1점, 틀리면 -1점 해서 n점 가면 이기고 0점 되면 해고\n",
    "def JHJplus(n):\n",
    "    import random\n",
    "    now = n // 2\n",
    "    while 0 < now < n:\n",
    "        a = random.randint(1, 99)\n",
    "        b = random.randint(1, 99)\n",
    "        print(a, '+', b, '=')\n",
    "        c = int(input(''))\n",
    "        if c == a + b:\n",
    "            now += 1\n",
    "        else:\n",
    "            now -= 1\n",
    "        print('score:', now)\n",
    "    if now == 0:\n",
    "        print('You Fired')\n",
    "    else:\n",
    "        print('Victory')"
   ]
  }
 ],
 "metadata": {
  "kernelspec": {
   "display_name": "Python 3 (ipykernel)",
   "language": "python",
   "name": "python3"
  },
  "language_info": {
   "codemirror_mode": {
    "name": "ipython",
    "version": 3
   },
   "file_extension": ".py",
   "mimetype": "text/x-python",
   "name": "python",
   "nbconvert_exporter": "python",
   "pygments_lexer": "ipython3",
   "version": "3.8.12"
  }
 },
 "nbformat": 4,
 "nbformat_minor": 5
}
