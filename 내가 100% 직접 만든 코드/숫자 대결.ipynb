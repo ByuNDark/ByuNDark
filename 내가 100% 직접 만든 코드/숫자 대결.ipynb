{
 "cells": [
  {
   "cell_type": "code",
   "execution_count": 1,
   "id": "5f23df2a",
   "metadata": {},
   "outputs": [],
   "source": [
    "# 더 지니어스 데스매치에서 나온 흑과 백 게임을 이렇게 만든 거\n",
    "def RogueNumber(n):\n",
    "    U, V = [], []\n",
    "    you = 0;ai = 0\n",
    "    for i in range(n):\n",
    "        U.append(i)\n",
    "        V.append(i)\n",
    "    import random\n",
    "    while len(U) >= 1:\n",
    "        w = random.choice(V)\n",
    "        V.remove(w)\n",
    "        print('출전 가능 카드', U)\n",
    "        x = int(input('당신이 선택할 카드를 1장 고르시오.'))\n",
    "        if x > w:\n",
    "            you += 1\n",
    "            print('플레이어 +1점')\n",
    "        elif x < w:\n",
    "            ai += 1\n",
    "            print('A.I. +1점')\n",
    "        else:\n",
    "            print('Draw')\n",
    "        U.remove(x)\n",
    "    print('플레이어', you, ':', ai, '인공지능')"
   ]
  }
 ],
 "metadata": {
  "kernelspec": {
   "display_name": "Python 3 (ipykernel)",
   "language": "python",
   "name": "python3"
  },
  "language_info": {
   "codemirror_mode": {
    "name": "ipython",
    "version": 3
   },
   "file_extension": ".py",
   "mimetype": "text/x-python",
   "name": "python",
   "nbconvert_exporter": "python",
   "pygments_lexer": "ipython3",
   "version": "3.8.12"
  }
 },
 "nbformat": 4,
 "nbformat_minor": 5
}
