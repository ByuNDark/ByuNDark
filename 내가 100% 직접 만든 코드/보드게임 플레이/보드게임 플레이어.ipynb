{
 "cells": [
  {
   "cell_type": "code",
   "execution_count": 123,
   "id": "aed782f0",
   "metadata": {},
   "outputs": [],
   "source": [
    "import random\n",
    "\n",
    "# normal 랜덤 자원 득점\n",
    "def NormalScore(k):\n",
    "    T = []\n",
    "    for i in range(k):\n",
    "        T.append(random.randint(1,6))\n",
    "    print(T)\n",
    "    print('득점 :',T.count(1) + T.count(4))\n",
    "\n",
    "# weak 랜덤 자원 득점\n",
    "def WeakScore(k):\n",
    "    T = []\n",
    "    for i in range(k):\n",
    "        T.append(random.randint(1,6))\n",
    "    print(T)\n",
    "    print('득점 :',T.count(1))\n",
    "\n",
    "# strong 랜덤 자원 득점\n",
    "def StrongScore(k):\n",
    "    T = []\n",
    "    for i in range(k):\n",
    "        T.append(random.randint(1,6))\n",
    "    print(T)\n",
    "    print('득점 :',T.count(1) + (2 * T.count(4)))\n",
    "\n",
    "# 합\n",
    "def SumationDice(k):\n",
    "    T = []\n",
    "    for i in range(k):\n",
    "        T.append(random.randint(1,6))\n",
    "    print(T)\n",
    "    print('합 :',sum(T))\n",
    "\n",
    "# 주사위 몇 개 던지기\n",
    "def DiceDraw(k):\n",
    "    T = []\n",
    "    for i in range(k):\n",
    "        T.append(random.randint(1,6))\n",
    "    print(T)\n",
    "\n",
    "# target number\n",
    "def TargetNumber(a, b):\n",
    "    print(random.randint(min(a,b),max(a,b)))"
   ]
  },
  {
   "cell_type": "code",
   "execution_count": 117,
   "id": "5a47ab1d",
   "metadata": {},
   "outputs": [
    {
     "name": "stdout",
     "output_type": "stream",
     "text": [
      "[2, 3, 1, 5, 1, 1, 6]\n",
      "득점 : 3\n"
     ]
    }
   ],
   "source": [
    "NormalScore(7)"
   ]
  },
  {
   "cell_type": "code",
   "execution_count": 118,
   "id": "a20cb6d2",
   "metadata": {},
   "outputs": [
    {
     "name": "stdout",
     "output_type": "stream",
     "text": [
      "[2, 4, 6, 1, 5, 1, 5, 6]\n",
      "득점 : 2\n"
     ]
    }
   ],
   "source": [
    "WeakScore(8)"
   ]
  },
  {
   "cell_type": "code",
   "execution_count": 119,
   "id": "5e2f493d",
   "metadata": {},
   "outputs": [
    {
     "name": "stdout",
     "output_type": "stream",
     "text": [
      "[5, 1, 1, 3, 1]\n",
      "득점 : 3\n"
     ]
    }
   ],
   "source": [
    "StrongScore(5)"
   ]
  },
  {
   "cell_type": "code",
   "execution_count": 120,
   "id": "1f4d1382",
   "metadata": {},
   "outputs": [
    {
     "name": "stdout",
     "output_type": "stream",
     "text": [
      "[5, 1, 1, 3, 6, 2]\n",
      "합 : 18\n"
     ]
    }
   ],
   "source": [
    "SumationDice(6)"
   ]
  },
  {
   "cell_type": "code",
   "execution_count": 121,
   "id": "d8e7405c",
   "metadata": {},
   "outputs": [
    {
     "name": "stdout",
     "output_type": "stream",
     "text": [
      "[4, 1, 5, 6, 3, 5, 2, 6, 4, 3]\n"
     ]
    }
   ],
   "source": [
    "DiceDraw(10)"
   ]
  },
  {
   "cell_type": "code",
   "execution_count": 124,
   "id": "2362936e",
   "metadata": {},
   "outputs": [
    {
     "name": "stdout",
     "output_type": "stream",
     "text": [
      "11\n"
     ]
    }
   ],
   "source": [
    "TargetNumber(5,20)"
   ]
  }
 ],
 "metadata": {
  "kernelspec": {
   "display_name": "Python 3 (ipykernel)",
   "language": "python",
   "name": "python3"
  },
  "language_info": {
   "codemirror_mode": {
    "name": "ipython",
    "version": 3
   },
   "file_extension": ".py",
   "mimetype": "text/x-python",
   "name": "python",
   "nbconvert_exporter": "python",
   "pygments_lexer": "ipython3",
   "version": "3.10.10"
  }
 },
 "nbformat": 4,
 "nbformat_minor": 5
}
