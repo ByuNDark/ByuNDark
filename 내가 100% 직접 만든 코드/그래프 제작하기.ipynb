{
 "cells": [
  {
   "cell_type": "code",
   "execution_count": 1,
   "id": "29ced344",
   "metadata": {},
   "outputs": [],
   "source": [
    "def MakeYourTree(n, k):\n",
    "    import networkx as nx\n",
    "    import matplotlib.pyplot as plt\n",
    "    G = nx.Graph()\n",
    "    for i in range(n):\n",
    "        G.add_node(i)\n",
    "    y = 0\n",
    "    while y < k:\n",
    "        u = int(input('연결하려는 점을 선택:'))\n",
    "        v = int(input('연결하려는 점을 선택2222:'))\n",
    "        if u >= n:\n",
    "            u = u % n\n",
    "        if v >= n:\n",
    "            v = v % n\n",
    "        y += 1\n",
    "        G.add_edge(u, v)\n",
    "    nx.draw(G, with_labels=True)"
   ]
  }
 ],
 "metadata": {
  "kernelspec": {
   "display_name": "Python 3 (ipykernel)",
   "language": "python",
   "name": "python3"
  },
  "language_info": {
   "codemirror_mode": {
    "name": "ipython",
    "version": 3
   },
   "file_extension": ".py",
   "mimetype": "text/x-python",
   "name": "python",
   "nbconvert_exporter": "python",
   "pygments_lexer": "ipython3",
   "version": "3.8.12"
  }
 },
 "nbformat": 4,
 "nbformat_minor": 5
}
