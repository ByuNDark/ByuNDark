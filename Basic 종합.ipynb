{
 "cells": [
  {
   "cell_type": "code",
   "execution_count": null,
   "id": "0c615009",
   "metadata": {},
   "outputs": [],
   "source": [
    "print('체인점 펼친 식당 : {}, 그것의 개수 : {}, 서로 다른 체인점 : {}'.format(i, j, k))\n",
    "print(f'지역 {i} 개수')\n",
    "\n",
    "# basic\n",
    "# ''문구 안에 {} 이렇게 n개 놓으면, ''뒤에 .format(a, b, c, ...)을 붙여줘야 하는데, a, b, c, ...개수가 n과 같아야 한다.\n",
    "# ''앞에 f 붙인 뒤, ''안에 {x} 이렇게 놓으면 x라는 변수가 print되는데, 위와 다른 점은 {}안에 미리 지정해 둔 변수 이름을 넣어야 한다."
   ]
  },
  {
   "cell_type": "code",
   "execution_count": null,
   "id": "e6f38eda",
   "metadata": {},
   "outputs": [],
   "source": [
    "sorted(eda_df['AI산출점수'].unique())\n",
    "\n",
    "# basic\n",
    "# eda_df['AI산출점수'].unique()와 같이 type이 반드시 list가 되어야 한다. list 내에 있는 값을 sort해준다."
   ]
  },
  {
   "cell_type": "code",
   "execution_count": 1,
   "id": "ad8ec797",
   "metadata": {},
   "outputs": [
    {
     "name": "stdout",
     "output_type": "stream",
     "text": [
      "1\n",
      "2\n",
      "0\n"
     ]
    }
   ],
   "source": [
    "print(16 % 3)\n",
    "print(22 % 5)\n",
    "print(138 % 2)\n",
    "\n",
    "# basic\n",
    "# (n % m)이라고 하면 n을 m으로 나누었을 때 생기는 나머지를 나타낸다."
   ]
  },
  {
   "cell_type": "code",
   "execution_count": 2,
   "id": "10933fd4",
   "metadata": {},
   "outputs": [
    {
     "name": "stdout",
     "output_type": "stream",
     "text": [
      "10\n",
      "10\n"
     ]
    }
   ],
   "source": [
    "A = [1, 2, 3, 4]\n",
    "B = (1, 2, 3, 4)\n",
    "print(sum(A))\n",
    "print(sum(B))\n",
    "\n",
    "# basic\n",
    "# sum(A)라고 하면 A 안의 모든 원소의 합을 제공한다."
   ]
  },
  {
   "cell_type": "code",
   "execution_count": 3,
   "id": "926a7b8e",
   "metadata": {},
   "outputs": [
    {
     "name": "stdout",
     "output_type": "stream",
     "text": [
      "4\n",
      "4\n"
     ]
    }
   ],
   "source": [
    "A = [1, 2, 3, 4]\n",
    "B = (1, 2, 3, 4)\n",
    "print(len(A))\n",
    "print(len(B))\n",
    "\n",
    "# basic\n",
    "# len(A)라고 하면 A의 길이/크기를 나타낸다."
   ]
  },
  {
   "cell_type": "code",
   "execution_count": 4,
   "id": "d3046586",
   "metadata": {},
   "outputs": [
    {
     "name": "stdout",
     "output_type": "stream",
     "text": [
      "156\n",
      "125\n",
      "625\n",
      "128\n"
     ]
    }
   ],
   "source": [
    "print(52 * 3)\n",
    "print(25 * 5)\n",
    "print(5 ** 4)\n",
    "print(2 ** 7)\n",
    "\n",
    "# basic\n",
    "# (a * b)는 a 곱하기 b이고, (a ** b)는 a의 b제곱이다."
   ]
  },
  {
   "cell_type": "code",
   "execution_count": 5,
   "id": "0e3497b2",
   "metadata": {},
   "outputs": [
    {
     "name": "stdout",
     "output_type": "stream",
     "text": [
      "3\n",
      "12\n",
      "3.75\n",
      "12.666666666666666\n"
     ]
    }
   ],
   "source": [
    "print(15 // 4)\n",
    "print(38 // 3)\n",
    "print(15 / 4)\n",
    "print(38 / 3)\n",
    "\n",
    "# basic\n",
    "# (a // b)는 a를 b로 나눴을 때의 몫이고, (a / b)는 a를 b로 나눈 값을 정수가 되든, 소수가 되든 날 것으로 제공한다."
   ]
  },
  {
   "cell_type": "code",
   "execution_count": 6,
   "id": "c1827c6a",
   "metadata": {},
   "outputs": [
    {
     "name": "stdout",
     "output_type": "stream",
     "text": [
      "0\n",
      "1\n",
      "2\n",
      "3\n",
      "4\n",
      "5\n",
      "5\n",
      "6\n",
      "7\n",
      "8\n",
      "9\n",
      "10\n",
      "11\n",
      "I\n",
      "N\n",
      "u\n",
      "K\n",
      "G\n",
      "U\n"
     ]
    }
   ],
   "source": [
    "for i in range(6):\n",
    "    print(i)\n",
    "for i in range(5, 12):\n",
    "    print(i)\n",
    "for i in ['I','N','u']:\n",
    "    print(i)\n",
    "for i in 'KGU':\n",
    "    print(i)\n",
    "    \n",
    "# basic\n",
    "# range(6)은 i를 0부터 5까지 돌려보라는 의미, range(5, 12)는 i를 5부터 11까지 돌려보라는 의미,\n",
    "# ['I','N','u']는 i를 'I','N','u'순으로 돌려보라는 의미, 'KGU'는 i를 'K','G','U'순으로 돌려보라는 의미"
   ]
  },
  {
   "cell_type": "code",
   "execution_count": 7,
   "id": "6d1bf9d7",
   "metadata": {},
   "outputs": [
    {
     "name": "stdout",
     "output_type": "stream",
     "text": [
      "1 10\n",
      "2 20\n",
      "3 30\n",
      "4 40\n",
      "1 10\n",
      "2 20\n",
      "3 30\n",
      "4 40\n",
      "1 10\n",
      "2 20\n",
      "3 30\n",
      "4 40\n",
      "5 50\n"
     ]
    }
   ],
   "source": [
    "for i, j in zip([1,2,3,4], [10,20,30,40]):\n",
    "    print(i, j)\n",
    "for i, j in zip([1,2,3,4], [10,20,30,40,50,60,70]):\n",
    "    print(i, j)\n",
    "for i, j in zip([1,2,3,4,5,6,7], [10,20,30,40,50]):\n",
    "    print(i, j)\n",
    "    \n",
    "# basic\n",
    "# zip을 for로 감싼다면 i와 j는 [1,2,3,4]와 [10,20,30,40]을 동시에 돌린다. 1번째와 1번째/2번째와 2번째/.../k번째와 k번째 방식이다.\n",
    "# zip 안에 크기가 다른 게 들어오면 그 중 작은 크기 기준이 된다. 작은 게 k라면, 큰 것에서 k+1번째부터의 원소는 볼 수 없게 된다."
   ]
  },
  {
   "cell_type": "code",
   "execution_count": 8,
   "id": "6031f377",
   "metadata": {},
   "outputs": [
    {
     "name": "stdout",
     "output_type": "stream",
     "text": [
      "5\n",
      "3\n",
      "9\n",
      "4\n"
     ]
    }
   ],
   "source": [
    "A = [3, 1, 2, 5, 4, 6, 7, 9]\n",
    "print(A[3])\n",
    "print(A[0])\n",
    "print(A[-1])\n",
    "print(A[-4])\n",
    "\n",
    "# basic\n",
    "# A[3]이면 A라는 것 중에서 4번째 원소를 뽑는 거, A[0]면 A에서 1번째 원소 뽑는다.\n",
    "# A[-1]이면 A 원소 중 가장 뒤에 거를 뽑고, A[-4]면 A 원소 중 뒤에서 4번째 거를 가져온다."
   ]
  },
  {
   "cell_type": "code",
   "execution_count": 9,
   "id": "05913bae",
   "metadata": {},
   "outputs": [
    {
     "name": "stdout",
     "output_type": "stream",
     "text": [
      "9\n",
      "[3, 5, 8]\n",
      "2\n"
     ]
    }
   ],
   "source": [
    "T = [[3,5,8], [2,6,8], [1,9,9]]\n",
    "print(T[2][2])\n",
    "print(T[0])\n",
    "print(T[1][0])\n",
    "\n",
    "# basic\n",
    "# T[2][2]는 3번째 원소를 뽑은 뒤, 그 원소 안에서 3번째 원소를 뽑는다."
   ]
  },
  {
   "cell_type": "code",
   "execution_count": 10,
   "id": "dfacbd63",
   "metadata": {},
   "outputs": [
    {
     "name": "stdout",
     "output_type": "stream",
     "text": [
      "[9, 10, 3, 4]\n",
      "[1, 9, 10, 3]\n",
      "[7, 8, 8]\n"
     ]
    }
   ],
   "source": [
    "P = [1, 9, 10, 3, 4, 6, 7, 8, 8]\n",
    "print(P[1:5])\n",
    "print(P[:4])\n",
    "print(P[6:])\n",
    "\n",
    "# basic\n",
    "# P[1:5]는 P에서 2번째부터 5번째 원소까지 긁어온다.\n",
    "# P[:4]는 P에서 처음부터 4번째 원소까지 긁어온다.\n",
    "# P[6:]은 P에서 7번째부터 끝까지 긁어온다."
   ]
  },
  {
   "cell_type": "code",
   "execution_count": 11,
   "id": "76d2a8e5",
   "metadata": {},
   "outputs": [
    {
     "name": "stdout",
     "output_type": "stream",
     "text": [
      "[5, 2, 6, 3, 4]\n"
     ]
    }
   ],
   "source": [
    "M = [5,2,6,3]\n",
    "M.append(4)\n",
    "print(M)\n",
    "\n",
    "# basic\n",
    "# M.append(4)를 하면 M의 가장 오른쪽, 3 옆에 4를 추가"
   ]
  },
  {
   "cell_type": "code",
   "execution_count": 12,
   "id": "e839f925",
   "metadata": {},
   "outputs": [
    {
     "name": "stdout",
     "output_type": "stream",
     "text": [
      "[4, 5, 6, 8, 9]\n",
      "[8, 7, 6, 5]\n"
     ]
    }
   ],
   "source": [
    "N = [4,5,6,7,8,9]\n",
    "del N[3]\n",
    "print(N)\n",
    "U = [9,8,7,6,5]\n",
    "del U[0]\n",
    "print(U)\n",
    "\n",
    "# basic\n",
    "# del N[3]은 N에서 4번째 원소를 제거한다. del U[0]은 U에서 1번째 원소를 제거한다."
   ]
  },
  {
   "cell_type": "code",
   "execution_count": 13,
   "id": "0cb91f4d",
   "metadata": {},
   "outputs": [
    {
     "name": "stdout",
     "output_type": "stream",
     "text": [
      "[1, 1, 1, 3, 3, 3, 9, 9, 5, 9, 9, 9]\n"
     ]
    }
   ],
   "source": [
    "U = [1,1,1,3,3,3,9,9,9,5,9,9,9]\n",
    "U.remove(9)\n",
    "print(U)\n",
    "\n",
    "# basic\n",
    "# U.remove(9)는 U에서 원소 9를 한 개 지운다. 이 때 지우는 9는 가장 왼쪽의 것이다."
   ]
  },
  {
   "cell_type": "code",
   "execution_count": 14,
   "id": "62612d2d",
   "metadata": {},
   "outputs": [
    {
     "name": "stdout",
     "output_type": "stream",
     "text": [
      "3\n",
      "0\n"
     ]
    }
   ],
   "source": [
    "I = [4,4,4,5,5,6,6,6,7,7]\n",
    "print(I.count(4))\n",
    "print(I.count(0))\n",
    "\n",
    "# basic\n",
    "# I.count(4)는 I에서 4의 개수를 구한다. I.count(0)처럼 I에 0이 없다면 0을 반환한다."
   ]
  },
  {
   "cell_type": "code",
   "execution_count": 15,
   "id": "59d7ce44",
   "metadata": {},
   "outputs": [
    {
     "name": "stdout",
     "output_type": "stream",
     "text": [
      "3\n",
      "7\n",
      "11\n",
      "15\n",
      "19\n",
      "23\n"
     ]
    }
   ],
   "source": [
    "for i in range(3, 27, 4):\n",
    "    print(i)\n",
    "    \n",
    "# basic\n",
    "# range(3, 27, 4)는 3부터 26까지인데 3, 7, 11, ...처럼 4씩 커지게 하는 규칙을 가진다."
   ]
  },
  {
   "cell_type": "code",
   "execution_count": 16,
   "id": "6ff1de67",
   "metadata": {},
   "outputs": [
    {
     "name": "stdout",
     "output_type": "stream",
     "text": [
      "[2, 2, 4, 5, 6, 6, 8, 8, 9, 45]\n",
      "['abc', 'ef', 'efd', 'fsc', 'sfp', 'tht']\n"
     ]
    }
   ],
   "source": [
    "A = [6,2,8,5,2,6,8,9,4,45]\n",
    "B = ['abc','efd','ef','tht','sfp','fsc']\n",
    "print(sorted(A))\n",
    "print(sorted(B))\n",
    "\n",
    "# basic\n",
    "# sorted(A)는 안에 있는 숫자를 오름차순으로 정리한다. sorted(B)처럼 문자열에도 가능하다."
   ]
  },
  {
   "cell_type": "code",
   "execution_count": 17,
   "id": "33d7d510",
   "metadata": {},
   "outputs": [
    {
     "name": "stdout",
     "output_type": "stream",
     "text": [
      "APPERLANED\n",
      "wiieekkcc\n",
      "Uriejfef\n"
     ]
    }
   ],
   "source": [
    "Z = 'apperlaned'\n",
    "P = 'WIIEEKKCC'\n",
    "T = 'uriEJFEF'\n",
    "print(Z.upper())\n",
    "print(P.lower())\n",
    "print(T.capitalize())\n",
    "\n",
    "# basic\n",
    "# Z.upper()는 Z에 있는 모든 소문자 알파벳을 대문자로 바꾼다. P.lower()는 P에 있는 모든 대문자 알파벳을 소문자로 바꾼다.\n",
    "# T.capitalize()는 알파벳으로 이루어진 단어 T의 맨 앞 글자를 대문자로 바꾼다."
   ]
  },
  {
   "cell_type": "code",
   "execution_count": 18,
   "id": "619baba0",
   "metadata": {},
   "outputs": [
    {
     "name": "stdout",
     "output_type": "stream",
     "text": [
      "True\n",
      "False\n",
      "True\n",
      "False\n"
     ]
    }
   ],
   "source": [
    "Q = 'yeardreamschool'\n",
    "print(Q.endswith('ool'))\n",
    "print(Q.endswith('cool'))\n",
    "print(Q.startswith('year'))\n",
    "print(Q.startswith('years'))\n",
    "\n",
    "# basic\n",
    "# Q.endswith('ool')은 문자열 Q가 'ool'로 끝난다면 True, 아니면 False를 반환한다.\n",
    "# Q.startswith('years')는 문자열 Q가 'years'로 끝난다면 True, 아니면 False를 반환한다."
   ]
  },
  {
   "cell_type": "code",
   "execution_count": 19,
   "id": "f927eab9",
   "metadata": {},
   "outputs": [
    {
     "name": "stdout",
     "output_type": "stream",
     "text": [
      "['incheon', 'national', 'university']\n",
      "['incheon$national$university']\n"
     ]
    }
   ],
   "source": [
    "Y = 'incheon$national$university'\n",
    "print(Y.split('$'))\n",
    "print(Y.split('ㄱ'))\n",
    "\n",
    "# basic\n",
    "# Y.split('$')는 문자열 Y에 '$'라는 게 있다면 우선 '$'는 없어지고, '$' 기준으로 문자열을 나누면 'incheon','national','university' 된다.\n",
    "# 문자열 Y에 'ㄱ'이 없다면 문자열 Y는 그대로 유지된다."
   ]
  },
  {
   "cell_type": "code",
   "execution_count": 20,
   "id": "7fa6cdb9",
   "metadata": {},
   "outputs": [
    {
     "name": "stdout",
     "output_type": "stream",
     "text": [
      "Tlayer1Tlayer2\n",
      "player1player2\n"
     ]
    }
   ],
   "source": [
    "R = 'player1player2'\n",
    "print(R.replace('p','T'))\n",
    "print(R.replace('Y','야'))\n",
    "\n",
    "# basic\n",
    "# R.replace('p','T')는 문자열 R에 있는 모든 'p'를 'T'로 바꿔준다. R에 없는 'Y'를 적용하면 변하지 않는다."
   ]
  },
  {
   "cell_type": "code",
   "execution_count": 21,
   "id": "09ba3cd0",
   "metadata": {},
   "outputs": [
    {
     "name": "stdout",
     "output_type": "stream",
     "text": [
      "p year dream schoolp\n",
      "pyear dream school p\n",
      "pyear dream schoolp\n",
      "aababababbbbbb\n",
      "babababbbbbbaa\n",
      "babababbbbbb\n"
     ]
    }
   ],
   "source": [
    "B = ' year dream school '\n",
    "K = 'aababababbbbbbaa'\n",
    "print('p' + B.rstrip() + 'p')\n",
    "print('p' + B.lstrip() + 'p')\n",
    "print('p' + B.strip() + 'p')\n",
    "print(K.rstrip('a'))\n",
    "print(K.lstrip('a'))\n",
    "print(K.strip('a'))\n",
    "\n",
    "# basic\n",
    "# B.rstrip()은 문자열의 오른쪽 끝에 공백이 있다면 제거한다. B.lstrip()은 문자열의 왼쪽 끝에 공백이 있다면 제거한다.\n",
    "# B.strip()은 문자열의 양쪽 끝에 공백이 있다면 제거한다.\n",
    "# K.rstrip('a')는 문자열의 오른쪽 끝부터 'a'가 아닐 때까지 모든 'a'를 제거한다.\n",
    "# K.lstrip('a')는 문자열의 왼쪽 끝부터 'a'가 아닐 때까지 모든 'a'를 제거한다.\n",
    "# K.strip('a')는 문자열의 양쪽 끝에서 시작해서 'a'가 아닐 때까지 모든 'a'를 제거한다."
   ]
  },
  {
   "cell_type": "code",
   "execution_count": 22,
   "id": "cc70ddd8",
   "metadata": {},
   "outputs": [
    {
     "name": "stdout",
     "output_type": "stream",
     "text": [
      "1\n",
      "0\n"
     ]
    }
   ],
   "source": [
    "S = 'players'\n",
    "if 'p' in S:\n",
    "    print(1)\n",
    "else:\n",
    "    print(0)\n",
    "if 't' in S:\n",
    "    print(1)\n",
    "else:\n",
    "    print(0)\n",
    "    \n",
    "# basic\n",
    "# (if 'p' in S)는 S 안에 'p'가 있는지를 검사한다."
   ]
  },
  {
   "cell_type": "code",
   "execution_count": 23,
   "id": "969b5eeb",
   "metadata": {},
   "outputs": [
    {
     "name": "stdout",
     "output_type": "stream",
     "text": [
      "0\n",
      "2\n"
     ]
    }
   ],
   "source": [
    "G = [5,5,1,1,5,5,5,5,5]\n",
    "print(G.index(5))\n",
    "print(G.index(1))\n",
    "\n",
    "# basic\n",
    "# G.index(5)는 G에 있는 원소 5 중에서 가장 왼쪽에 있는 것의 순서가 몇 번째인지 알려준다."
   ]
  },
  {
   "cell_type": "code",
   "execution_count": 24,
   "id": "55ed1df0",
   "metadata": {},
   "outputs": [
    {
     "name": "stdout",
     "output_type": "stream",
     "text": [
      "13\n",
      "15\n"
     ]
    }
   ],
   "source": [
    "print(round(12.88))\n",
    "print(round(15.02))\n",
    "\n",
    "# basic\n",
    "# round(12.88)는 12.88 반올림하면 13, round(15.02)는 15.02 반올림하면 15"
   ]
  },
  {
   "cell_type": "code",
   "execution_count": 25,
   "id": "4d38c414",
   "metadata": {},
   "outputs": [
    {
     "name": "stdout",
     "output_type": "stream",
     "text": [
      "강한친구 대한육군\n",
      "강한친구 대한육군\n"
     ]
    }
   ],
   "source": [
    "print('강한친구 대한육군\\n강한친구 대한육군')\n",
    "\n",
    "# basic\n",
    "# print()내부에 \\n을 넣으면 그것 기준으로 줄바꿈한다."
   ]
  },
  {
   "cell_type": "code",
   "execution_count": 26,
   "id": "c05b905b",
   "metadata": {},
   "outputs": [
    {
     "name": "stdout",
     "output_type": "stream",
     "text": [
      "5 46 3777\n",
      "3777 46 5\n"
     ]
    }
   ],
   "source": [
    "a, b, c = map(int, input().split())\n",
    "print(c, b, a)\n",
    "\n",
    "# basic\n",
    "# map(int, input().split())하면 여러 변수를 한번에 input할 수 있다."
   ]
  },
  {
   "cell_type": "code",
   "execution_count": 27,
   "id": "18e3ba70",
   "metadata": {},
   "outputs": [
    {
     "name": "stdout",
     "output_type": "stream",
     "text": [
      "5 6 7 8 7 6 5\n",
      "[5, 6, 7, 8, 7, 6, 5]\n"
     ]
    }
   ],
   "source": [
    "A = list(map(int,input().split()))\n",
    "print(A)\n",
    "\n",
    "# basic\n",
    "# list(map(int,input().split()))하면 여러 변수를 input했을 때 그것이 자동으로 list형태가 된다."
   ]
  }
 ],
 "metadata": {
  "kernelspec": {
   "display_name": "Python 3 (ipykernel)",
   "language": "python",
   "name": "python3"
  },
  "language_info": {
   "codemirror_mode": {
    "name": "ipython",
    "version": 3
   },
   "file_extension": ".py",
   "mimetype": "text/x-python",
   "name": "python",
   "nbconvert_exporter": "python",
   "pygments_lexer": "ipython3",
   "version": "3.8.12"
  }
 },
 "nbformat": 4,
 "nbformat_minor": 5
}
