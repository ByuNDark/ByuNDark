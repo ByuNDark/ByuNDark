{
 "cells": [
  {
   "cell_type": "code",
   "execution_count": 1,
   "id": "17a424cb",
   "metadata": {},
   "outputs": [],
   "source": [
    "import random\n",
    "\n",
    "# random 하기 전에 무조건 해야 되는 거"
   ]
  },
  {
   "cell_type": "code",
   "execution_count": 2,
   "id": "49e13f7a",
   "metadata": {},
   "outputs": [
    {
     "name": "stdout",
     "output_type": "stream",
     "text": [
      "['b', 'a', 'd']\n",
      "[11, 10, 13, 17]\n"
     ]
    }
   ],
   "source": [
    "A = ['a','b','c','d','e','f']\n",
    "print(random.sample(A, 3))\n",
    "print(random.sample(range(10, 20), 4))\n",
    "\n",
    "# random\n",
    "# random.sample(A, 3)하면 A에서 서로 다른 원소 3개를 무작위 선택한다. A 대신 range(10, 20) 하면 10부터 19까지 중에서 무작위 4개 선택한다."
   ]
  },
  {
   "cell_type": "code",
   "execution_count": 3,
   "id": "b7e73ede",
   "metadata": {},
   "outputs": [
    {
     "name": "stdout",
     "output_type": "stream",
     "text": [
      "r\n"
     ]
    }
   ],
   "source": [
    "E = ['p','q','r','s']\n",
    "print(random.choice(E))\n",
    "\n",
    "# random\n",
    "# random.choice(E)는 E에서 무작위로 원소 1개 선택한다."
   ]
  },
  {
   "cell_type": "code",
   "execution_count": 4,
   "id": "5d086643",
   "metadata": {},
   "outputs": [
    {
     "name": "stdout",
     "output_type": "stream",
     "text": [
      "9\n"
     ]
    }
   ],
   "source": [
    "print(random.randint(3, 15))\n",
    "\n",
    "# random\n",
    "# random.randint(3, 15)는 3 이상 14 이하 정수 중에서 무작위 1개 선택한다."
   ]
  },
  {
   "cell_type": "code",
   "execution_count": 5,
   "id": "e97c1ecd",
   "metadata": {},
   "outputs": [
    {
     "name": "stdout",
     "output_type": "stream",
     "text": [
      "['b', 'a', 'd', 'f', 'c', 'e']\n"
     ]
    }
   ],
   "source": [
    "W = ['a','b','c','d','e','f']\n",
    "random.shuffle(W)\n",
    "print(W)\n",
    "\n",
    "# random\n",
    "# random.shuffle(W)는 W 안의 것들을 무작위로 섞는다."
   ]
  }
 ],
 "metadata": {
  "kernelspec": {
   "display_name": "Python 3 (ipykernel)",
   "language": "python",
   "name": "python3"
  },
  "language_info": {
   "codemirror_mode": {
    "name": "ipython",
    "version": 3
   },
   "file_extension": ".py",
   "mimetype": "text/x-python",
   "name": "python",
   "nbconvert_exporter": "python",
   "pygments_lexer": "ipython3",
   "version": "3.8.12"
  }
 },
 "nbformat": 4,
 "nbformat_minor": 5
}
