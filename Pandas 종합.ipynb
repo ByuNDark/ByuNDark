{
 "cells": [
  {
   "cell_type": "code",
   "execution_count": null,
   "id": "d6775cbd",
   "metadata": {},
   "outputs": [],
   "source": [
    "data = data.drop(['Unnamed: 0'], axis=1)\n",
    "\n",
    "# pandas\n",
    "# data라는 데이터프레임에서 column 이름이 Unnamed: 0인 것을 삭제"
   ]
  },
  {
   "cell_type": "code",
   "execution_count": null,
   "id": "02a50169",
   "metadata": {},
   "outputs": [],
   "source": [
    "data = data.fillna('작성되지 않은 칸')\n",
    "\n",
    "# pandas\n",
    "# data라는 데이터프레임 전체에서 NaN 같은 것들을 '작성되지 않은 칸'이라는 문구로 채우기"
   ]
  },
  {
   "cell_type": "code",
   "execution_count": null,
   "id": "a160d31d",
   "metadata": {},
   "outputs": [],
   "source": [
    "eda_df = data.copy()\n",
    "\n",
    "# pandas\n",
    "# data를 ctrl+c 다음 ctrl+v 해서 data-복사본 나오는데, data-복사본의 이름을 eda_df라고 지정해주는 것"
   ]
  },
  {
   "cell_type": "code",
   "execution_count": null,
   "id": "192c6150",
   "metadata": {},
   "outputs": [],
   "source": [
    "eda_df['식당이름'].nunique()\n",
    "\n",
    "# pandas\n",
    "# eda_df의 '식당이름'이라는 column에서 중복을 제거한 데이터의 개수 구하기"
   ]
  },
  {
   "cell_type": "code",
   "execution_count": null,
   "id": "05ca1fa0",
   "metadata": {},
   "outputs": [],
   "source": [
    "eda_df['식당이름'].unique()\n",
    "\n",
    "# pandas\n",
    "# eda_df의 '식당이름'이라는 column에서 중복을 제거한 데이터를 나열하기"
   ]
  },
  {
   "cell_type": "code",
   "execution_count": null,
   "id": "12c7eed3",
   "metadata": {},
   "outputs": [],
   "source": [
    "(eda_df['식당이름'] == i).sum()\n",
    "\n",
    "# pandas\n",
    "# eda_df['식당이름'] == i까지 하면 세로 한 줄로 True/False 2종류 나온다.\n",
    "# True는 '== i'가 성립할 경우, False는 그렇지 않은 경우가 된다.\n",
    "# .sum()을 붙여주면 위에서 생긴 세로 한 줄에서 True의 개수를 알려준다."
   ]
  },
  {
   "cell_type": "code",
   "execution_count": null,
   "id": "dfc8dd4c",
   "metadata": {},
   "outputs": [],
   "source": [
    "eda_df[eda_df['식당이름'] == i]['식당ID']\n",
    "\n",
    "# pandas\n",
    "# eda_df의 '식당이름'이라는 column에서 i와 일치하는 것들에 해당되는 모든 row끼리만 모은 것까지가 eda_df[eda_df['식당이름'] == i]\n",
    "# eda_df[eda_df['식당이름'] == i]뒤에 ['식당ID']까지 붙으면 해당되는 모든 row끼리만 모은 것에서 '식당ID'라는 column만 불러오기"
   ]
  },
  {
   "cell_type": "code",
   "execution_count": null,
   "id": "03d31d0e",
   "metadata": {},
   "outputs": [],
   "source": [
    "Visual_Object = pd.DataFrame({'지역':Graph_for_Location_지역,\n",
    "                            '총평':Graph_for_Location_총평,\n",
    "                            '맛평점':Graph_for_Location_맛평점,\n",
    "                            '가격평점':Graph_for_Location_가격평점,\n",
    "                            '서비스평점':Graph_for_Location_서비스평점})\n",
    "\n",
    "# pandas\n",
    "# 새로운 데이터프레임을 제작하기 위한 거. '지역','총평','맛평점','가격평점','서비스평점'이 column 이름이 된다.\n",
    "# Graph_for_Location_지역, Graph_for_Location_총평, ..., Graph_for_Location_서비스평점이 지정된 column에 세로로 들어갈 list들이다."
   ]
  },
  {
   "cell_type": "code",
   "execution_count": null,
   "id": "4676693c",
   "metadata": {},
   "outputs": [],
   "source": [
    "def func(x):\n",
    "    if x == 0:\n",
    "        return \"0개\"\n",
    "    elif x <= 25:\n",
    "        return \"25개 이하\"\n",
    "    elif x > 1000:\n",
    "        return \"1000개 초과\"\n",
    "    else:\n",
    "        return \"NaN\"\n",
    "eda_df['좋아요의 범위'] = (eda_df['좋아요 수']).apply(func)\n",
    "\n",
    "# pandas\n",
    "# eda_df의 column인 '좋아요 수'에 대해서 func(x)의 x에다가 각 데이터를 넣는다. 그리고 func(x)의 결과값으로 4개를 만드는데,\n",
    "# \"0개\", \"25개 이하\", \"1000개 초과\", \"NaN\" 이렇게 한다. 그 뒤 eda_df에는 새로운 column인 '좋아요의 범위'가 생기는데,\n",
    "# 여기는 func(x)의 결과값 4가지로 채워진다. 새로운 column 생성 방법 중 하나다."
   ]
  },
  {
   "cell_type": "code",
   "execution_count": null,
   "id": "0d168e27",
   "metadata": {},
   "outputs": [],
   "source": [
    "sisul_df = sisul_df.dropna(subset = ['시설'])\n",
    "\n",
    "# pandas\n",
    "# sisul_df에 있는 '시설'이라는 column 기준으로, 그 column에 NaN 이런 게 있다면 그런 row들을 모두 없애는 것"
   ]
  },
  {
   "cell_type": "code",
   "execution_count": null,
   "id": "7352215b",
   "metadata": {},
   "outputs": [],
   "source": [
    "Delete_List_1 = model_df[abs((((model_df['가격평점'] + model_df['서비스평점']) - 3) // 2) - model_df['총평']) >= 3].index\n",
    "model_df.drop(Delete_List_1, inplace=True)\n",
    "\n",
    "# pandas\n",
    "# model_df에 있는 column인 '가격평점','서비스평점','총평'에 대한 조건\n",
    "# abs((((model_df['가격평점'] + model_df['서비스평점']) - 3) // 2) - model_df['총평']) >= 3을 만족하는 row만 뽑는 것이\n",
    "# model_df[abs((((model_df['가격평점'] + model_df['서비스평점']) - 3) // 2) - model_df['총평']) >= 3]이고, 이 row들이 원래의\n",
    "# model_df에서 index가 몇이었는지를 저장해주는 것은 .index를 뒤에 붙이는 것이다. 그 저장된 숫자 list는 Delete_List_1가 된다.\n",
    "# model_df.drop(Delete_List_1, inplace=True)을 하면 model_df에서 Delete_List_1에 해당되는 index인 row들이 없어진다.\n",
    "# 여기서 inplace=True는 model_df = model_df.drop(Delete_List_1)와 같게 한다."
   ]
  },
  {
   "cell_type": "code",
   "execution_count": null,
   "id": "7e32760d",
   "metadata": {},
   "outputs": [],
   "source": [
    "vals = [2, 1, 0]\n",
    "conditions_1 = [\n",
    "    model_df['시설'].str.contains('발렛') & model_df['총평'] == 1,\n",
    "    model_df['시설'].str.contains('발렛') & model_df['총평'] == 2,\n",
    "    model_df['총평'] < 9999\n",
    "]\n",
    "model_df['발렛 유무'] = np.select(conditions_1, vals)\n",
    "\n",
    "# pandas\n",
    "# vals와 conditions_1은 list 형식인데, 이 둘은 len()했을 때 크기가 반드시 같아야 한다.\n",
    "# model_df에서 기존에 없던 새로운 column인 '발렛 유무'를 넣고 싶을 때 다음과 같이 하는 것이다.\n",
    "# vals에는 새로운 column에 넣고 싶은 값들이고, conditions_1에는 어떨 때 vals에 있는 값을 넣으려고 하는가를 지정해준다.\n",
    "# vals의 k번째 요소와 conditions_1의 k번째 요소가 서로 매칭된다.\n",
    "# 마지막에는 np.select(conditions_1, vals)라고 하면 된다."
   ]
  },
  {
   "cell_type": "code",
   "execution_count": null,
   "id": "b5de7dca",
   "metadata": {},
   "outputs": [],
   "source": [
    "model_df['혼밥'] = np.where(model_df['방문목적'].str.contains('혼밥'), 1, 0)\n",
    "\n",
    "# pandas\n",
    "# model_df에는 없었던 새로운 column인 '혼밥'을 만들건데, model_df의 column '방문목적'을 기준으로\n",
    "# 조건문 '.str.contains('혼밥')'이 맞으면 1, 아니면 0으로 column을 만드는 것"
   ]
  },
  {
   "cell_type": "code",
   "execution_count": null,
   "id": "5c13504c",
   "metadata": {},
   "outputs": [],
   "source": [
    "train_OHE = pd.get_dummies(Dtrain_sub, columns=[\"matchType\"])\n",
    "\n",
    "# pandas\n",
    "# get_dummies(Dtrain_sub, columns=[\"matchType\"])에서 원핫인코딩 할 대상 데이터프레임은 Dtrain_sub이다.\n",
    "# Dtrain_sub에서 원핫인코딩 할 column은 'matchType'이다.\n",
    "# \"matchType\"에서 서로 다른 데이터가 n종류라면 train_OHE에 새로 생기는 0과 1만으로 이루어진 column이 n개 생긴다."
   ]
  },
  {
   "cell_type": "code",
   "execution_count": null,
   "id": "b8d323f4",
   "metadata": {},
   "outputs": [],
   "source": [
    "Dwait.columns\n",
    "\n",
    "# pandas\n",
    "# 데이터프레임 Dwait에 있는 모든 column을 공개"
   ]
  },
  {
   "cell_type": "code",
   "execution_count": null,
   "id": "bc801c80",
   "metadata": {},
   "outputs": [],
   "source": [
    "FinalObj = pd.merge(test_V2, sample_submission_V2, on='Id')\n",
    "\n",
    "# pandas\n",
    "# merge(test_V2, sample_submission_V2, on='Id')이면 test_V2랑 sample_submission_V2 데이터프레임을 가로 방향으로 이어붙인다.\n",
    "# on='Id'라고 하면 우선 test_V2랑 sample_submission_V2 모두 'Id'라는 column이 있어야 한다.\n",
    "# sample_submission_V2의 row 순서는 column 'Id' 기준으로 test_V2에 맞게 재배열되어서 붙여진다."
   ]
  },
  {
   "cell_type": "code",
   "execution_count": null,
   "id": "680c12ea",
   "metadata": {},
   "outputs": [],
   "source": [
    "Visual_Object1 = Visual_Object.groupby(['이름'])['text'].apply(','.join).reset_index()\n",
    "Visual_Object1\n",
    "\n",
    "# pandas\n",
    "# 데이터프레임 Visual_Object의 column인 '이름'이 같은 것끼리 'text' columh 데이터들을 모아둔 것\n",
    "# apply(','.join)에서 ','에 의해 여러 데이터들이 ','로 구분되어 여백 없이 붙여진다.\n",
    "# 여기서 len(Visual_Object1) = len(Visual_Object['이름'].unique())이 된다."
   ]
  },
  {
   "cell_type": "code",
   "execution_count": null,
   "id": "4c8e6ebe",
   "metadata": {},
   "outputs": [],
   "source": [
    "Middle = Ori_Train.dropna()\n",
    "\n",
    "# pandas\n",
    "# Ori_Train 데이터프레임에 NaN 이런 게 있다면 그것이 포함된 행을 모두 지운다."
   ]
  }
 ],
 "metadata": {
  "kernelspec": {
   "display_name": "Python 3 (ipykernel)",
   "language": "python",
   "name": "python3"
  },
  "language_info": {
   "codemirror_mode": {
    "name": "ipython",
    "version": 3
   },
   "file_extension": ".py",
   "mimetype": "text/x-python",
   "name": "python",
   "nbconvert_exporter": "python",
   "pygments_lexer": "ipython3",
   "version": "3.8.12"
  }
 },
 "nbformat": 4,
 "nbformat_minor": 5
}
